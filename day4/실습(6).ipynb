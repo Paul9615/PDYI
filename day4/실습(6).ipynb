{
 "cells": [
  {
   "cell_type": "markdown",
   "metadata": {},
   "source": [
    "# 파일 입력"
   ]
  },
  {
   "cell_type": "code",
   "execution_count": 2,
   "metadata": {},
   "outputs": [
    {
     "name": "stdout",
     "output_type": "stream",
     "text": [
      "11111111111\n",
      "\n",
      "22222222222\n",
      "\n",
      "33333333333\n",
      "\n",
      "44444444444\n",
      "\n",
      "55555555555\n",
      "\n",
      "66666666666\n",
      "\n",
      "77777777777\n"
     ]
    }
   ],
   "source": [
    "# read file\n",
    "num = open('./number.txt','r')\n",
    "for l in num:\n",
    "    print(l)\n",
    "num.close() # 객체 닫기"
   ]
  },
  {
   "cell_type": "code",
   "execution_count": 3,
   "metadata": {},
   "outputs": [
    {
     "name": "stdout",
     "output_type": "stream",
     "text": [
      "11111111111\n",
      "\n",
      "22222222222\n",
      "\n",
      "33333333333\n",
      "\n",
      "44444444444\n",
      "\n",
      "55555555555\n",
      "\n",
      "66666666666\n",
      "\n",
      "77777777777\n"
     ]
    }
   ],
   "source": [
    "# use with \n",
    "with open('./number.txt','r') as num:\n",
    "    for i in num:\n",
    "        print(i)"
   ]
  },
  {
   "cell_type": "markdown",
   "metadata": {},
   "source": [
    "r: 파일 읽기\\\n",
    "w: 파일 쓰기(동일 경로, 파일명 존재 시 overwrite)\\\n",
    "x: 파일 쓰기(동일 경로, 파일명 존재 시 error)\\\n",
    "a: 파일 쓰기(동일 경로, 파일명 존재 시 append)\\\n",
    "+: 파일 읽기/쓰기 "
   ]
  },
  {
   "cell_type": "markdown",
   "metadata": {},
   "source": [
    "# 파일 출력"
   ]
  },
  {
   "cell_type": "code",
   "execution_count": 10,
   "metadata": {},
   "outputs": [],
   "source": [
    "# read and write \n",
    "num = open('./number1.txt','w')\n",
    "num.write('88888888888\\n')\n",
    "num.write('99999999999')\n",
    "num.close()"
   ]
  },
  {
   "cell_type": "code",
   "execution_count": 12,
   "metadata": {},
   "outputs": [
    {
     "ename": "FileExistsError",
     "evalue": "[Errno 17] File exists: './number.txt'",
     "output_type": "error",
     "traceback": [
      "\u001b[1;31m---------------------------------------------------------------------------\u001b[0m",
      "\u001b[1;31mFileExistsError\u001b[0m                           Traceback (most recent call last)",
      "\u001b[1;32m<ipython-input-12-94deebe80b4d>\u001b[0m in \u001b[0;36m<module>\u001b[1;34m\u001b[0m\n\u001b[1;32m----> 1\u001b[1;33m \u001b[1;32mwith\u001b[0m \u001b[0mopen\u001b[0m\u001b[1;33m(\u001b[0m\u001b[1;34m'./number.txt'\u001b[0m\u001b[1;33m,\u001b[0m\u001b[1;34m'x'\u001b[0m\u001b[1;33m)\u001b[0m \u001b[1;32mas\u001b[0m \u001b[0mnum\u001b[0m\u001b[1;33m:\u001b[0m\u001b[1;33m\u001b[0m\u001b[1;33m\u001b[0m\u001b[0m\n\u001b[0m\u001b[0;32m      2\u001b[0m     \u001b[0mnum\u001b[0m\u001b[1;33m.\u001b[0m\u001b[0mwrite\u001b[0m\u001b[1;33m(\u001b[0m\u001b[1;34m'11111111111\\n'\u001b[0m\u001b[1;33m)\u001b[0m\u001b[1;33m\u001b[0m\u001b[1;33m\u001b[0m\u001b[0m\n",
      "\u001b[1;31mFileExistsError\u001b[0m: [Errno 17] File exists: './number.txt'"
     ]
    }
   ],
   "source": [
    "with open('./number.txt','x') as num: # 현 path에서 동일명의 파일이 있으니 에러\n",
    "    num.write('11111111111\\n')"
   ]
  },
  {
   "cell_type": "code",
   "execution_count": 15,
   "metadata": {},
   "outputs": [],
   "source": [
    "with open('./number.txt','a') as num: # 동일 명의 파일이 있으므로\n",
    "     num.write('1010101010101010\\n')"
   ]
  },
  {
   "cell_type": "code",
   "execution_count": 16,
   "metadata": {},
   "outputs": [
    {
     "name": "stdout",
     "output_type": "stream",
     "text": [
      "88888888888\n",
      "\n",
      "9999999999922222222222\n",
      "\n",
      "1010101010101010\n",
      "\n"
     ]
    }
   ],
   "source": [
    "# with open('./number.txt','r') as num: # 추가\n",
    "#     for i in num:\n",
    "#         print(i)"
   ]
  },
  {
   "cell_type": "markdown",
   "metadata": {},
   "source": [
    "# 파일 시스템"
   ]
  },
  {
   "cell_type": "code",
   "execution_count": 17,
   "metadata": {},
   "outputs": [
    {
     "data": {
      "text/plain": [
       "['.ipynb_checkpoints',\n",
       " 'calculation',\n",
       " 'calla.py',\n",
       " 'number.txt',\n",
       " 'number1.txt',\n",
       " '__pycache__',\n",
       " '실습(1).ipynb',\n",
       " '실습(2).ipynb',\n",
       " '실습(3).ipynb',\n",
       " '실습(4).ipynb',\n",
       " '실습(5).ipynb',\n",
       " '실습(6).ipynb']"
      ]
     },
     "execution_count": 17,
     "metadata": {},
     "output_type": "execute_result"
    }
   ],
   "source": [
    "# file system\n",
    "import os \n",
    "os.listdir('.')"
   ]
  },
  {
   "cell_type": "code",
   "execution_count": 19,
   "metadata": {},
   "outputs": [
    {
     "data": {
      "text/plain": [
       "['실습(1).ipynb',\n",
       " '실습(2).ipynb',\n",
       " '실습(3).ipynb',\n",
       " '실습(4).ipynb',\n",
       " '실습(5).ipynb',\n",
       " '실습(6).ipynb']"
      ]
     },
     "execution_count": 19,
     "metadata": {},
     "output_type": "execute_result"
    }
   ],
   "source": [
    "# 확장자로 필터링 \n",
    "fil = os.listdir('.') \n",
    "fil_ip = [fi for fi in fil if fi.endswith('.ipynb')]\n",
    "fil_ip"
   ]
  },
  {
   "cell_type": "code",
   "execution_count": null,
   "metadata": {},
   "outputs": [],
   "source": [
    "# os.getcwd() # present directory return\n",
    "# os.mkdir() # create directory \n",
    "# 내 개인정보는 소중하니까,,,★"
   ]
  },
  {
   "cell_type": "code",
   "execution_count": 21,
   "metadata": {},
   "outputs": [
    {
     "name": "stdout",
     "output_type": "stream",
     "text": [
      "True\n",
      "True\n"
     ]
    }
   ],
   "source": [
    "# directory/file 여부 \n",
    "print(os.path.isfile('number.txt')) # 없으면  false\n",
    "print(os.path.isdir('calculation')) # 없으면  false"
   ]
  },
  {
   "cell_type": "code",
   "execution_count": 22,
   "metadata": {},
   "outputs": [
    {
     "name": "stdout",
     "output_type": "stream",
     "text": [
      "('C:\\\\Users\\\\rudal\\\\OneDrive\\\\바탕 화면\\\\공빅데\\\\PDYI\\\\day4', 'number.txt')\n",
      "('number', '.txt')\n"
     ]
    }
   ],
   "source": [
    "# split directory name and file name\n",
    "print(os.path.split(os.path.abspath('number.txt')))\n",
    "\n",
    "# split directory name and extension \n",
    "print(os.path.splitext('number.txt'))"
   ]
  },
  {
   "cell_type": "code",
   "execution_count": null,
   "metadata": {},
   "outputs": [],
   "source": []
  }
 ],
 "metadata": {
  "kernelspec": {
   "display_name": "Python 3",
   "language": "python",
   "name": "python3"
  },
  "language_info": {
   "codemirror_mode": {
    "name": "ipython",
    "version": 3
   },
   "file_extension": ".py",
   "mimetype": "text/x-python",
   "name": "python",
   "nbconvert_exporter": "python",
   "pygments_lexer": "ipython3",
   "version": "3.8.5"
  }
 },
 "nbformat": 4,
 "nbformat_minor": 4
}
