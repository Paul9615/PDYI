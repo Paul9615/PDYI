{
 "cells": [
  {
   "cell_type": "markdown",
   "metadata": {},
   "source": [
    "# for 반복문"
   ]
  },
  {
   "cell_type": "code",
   "execution_count": 1,
   "metadata": {},
   "outputs": [
    {
     "name": "stdout",
     "output_type": "stream",
     "text": [
      "1\n",
      "2\n",
      "3\n"
     ]
    }
   ],
   "source": [
    "# for and list \n",
    "for i in [1,2,3]:\n",
    "    print(i) "
   ]
  },
  {
   "cell_type": "code",
   "execution_count": 3,
   "metadata": {},
   "outputs": [
    {
     "name": "stdout",
     "output_type": "stream",
     "text": [
      "kor\n",
      "enf\n",
      "math\n",
      "95\n",
      "90\n",
      "80\n",
      "kor score is 95\n",
      "enf score is 90\n",
      "math score is 80\n"
     ]
    }
   ],
   "source": [
    "# for and dictionary\n",
    "sc = {\n",
    "    'kor': 95,\n",
    "    'enf': 90,\n",
    "    'math': 80\n",
    "}\n",
    "\n",
    "for i in sc.keys():\n",
    "    print(i)\n",
    "    \n",
    "for i in sc.values():\n",
    "    print(i)\n",
    "    \n",
    "for k, v in sc.items():\n",
    "    print(f'{k} score is {v}')"
   ]
  },
  {
   "cell_type": "code",
   "execution_count": 5,
   "metadata": {},
   "outputs": [
    {
     "name": "stdout",
     "output_type": "stream",
     "text": [
      "[10, 9, 8, 7, 6, 5, 4, 3, 2, 1]\n",
      "1\n",
      "3\n",
      "5\n",
      "7\n",
      "9\n"
     ]
    }
   ],
   "source": [
    "# range\n",
    "print(list(range(10,0,-1))) # 10에서 0까지 1차감한 리스트 출력\n",
    "\n",
    "for i in range(1,11,2): # 1부터 11까지 2간격으로 출력\n",
    "    print(i)"
   ]
  },
  {
   "cell_type": "code",
   "execution_count": 7,
   "metadata": {},
   "outputs": [
    {
     "name": "stdout",
     "output_type": "stream",
     "text": [
      "2x1 = 2\n",
      "2x2 = 4\n",
      "2x3 = 6\n",
      "2x4 = 8\n",
      "2x5 = 10\n",
      "2x6 = 12\n",
      "2x7 = 14\n",
      "2x8 = 16\n",
      "2x9 = 18\n",
      "end\n"
     ]
    }
   ],
   "source": [
    "# for and else \n",
    "for i in range(1,10):\n",
    "    an = 2*i\n",
    "    print(f'2x{i} = {an}')\n",
    "else: \n",
    "    print('end') # loop 끝나면 else 실행"
   ]
  },
  {
   "cell_type": "markdown",
   "metadata": {},
   "source": [
    "# while 반복문\n",
    "조건이 true면 실행후 조건검사, 조건이 false면 반복종료"
   ]
  },
  {
   "cell_type": "code",
   "execution_count": 8,
   "metadata": {},
   "outputs": [
    {
     "name": "stdout",
     "output_type": "stream",
     "text": [
      "0\n",
      "1\n",
      "2\n",
      "3\n",
      "4\n",
      "5\n",
      "6\n",
      "7\n",
      "8\n",
      "9\n",
      "end\n"
     ]
    }
   ],
   "source": [
    "# while \n",
    "a = 0 \n",
    "while a < 10: \n",
    "    print(a)\n",
    "    a += 1 \n",
    "else: \n",
    "    print('end')"
   ]
  },
  {
   "cell_type": "code",
   "execution_count": 10,
   "metadata": {},
   "outputs": [
    {
     "name": "stdout",
     "output_type": "stream",
     "text": [
      "3\n",
      "6\n",
      "9\n",
      "12\n",
      "15\n",
      "18\n",
      "21\n",
      "24\n",
      "27\n",
      "30\n",
      "33\n",
      "36\n",
      "39\n",
      "42\n",
      "45\n",
      "48\n",
      "51\n",
      "54\n",
      "57\n",
      "60\n",
      "63\n",
      "66\n",
      "69\n",
      "72\n",
      "75\n",
      "78\n",
      "81\n",
      "84\n",
      "87\n",
      "90\n",
      "93\n",
      "96\n",
      "99\n",
      "102\n"
     ]
    }
   ],
   "source": [
    "# infinite loop \n",
    "# add basis rule\n",
    "x = 0 \n",
    "while True:\n",
    "    x+=3 \n",
    "    print(x)\n",
    "    if x>100 and x%3 == 0:\n",
    "        break"
   ]
  },
  {
   "cell_type": "markdown",
   "metadata": {},
   "source": [
    "# List comprehension"
   ]
  },
  {
   "cell_type": "code",
   "execution_count": 14,
   "metadata": {},
   "outputs": [
    {
     "name": "stdout",
     "output_type": "stream",
     "text": [
      "[1, 2, 3, 4, 5, 6, 7, 8, 9, 10]\n",
      "[2, 4, 6, 8, 10, 12, 14, 16, 18, 20]\n",
      "[1, 9, 25, 49, 81]\n"
     ]
    }
   ],
   "source": [
    "# List comprehension \n",
    "li1 = list(range(1,11))\n",
    "print(li1)\n",
    "\n",
    "li2 = [i*2 for i in li1]\n",
    "print(li2)\n",
    "\n",
    "# filtering \n",
    "li3 = [i**2 for i in li1 if i%2==1]\n",
    "print(li3)"
   ]
  }
 ],
 "metadata": {
  "kernelspec": {
   "display_name": "Python 3",
   "language": "python",
   "name": "python3"
  },
  "language_info": {
   "codemirror_mode": {
    "name": "ipython",
    "version": 3
   },
   "file_extension": ".py",
   "mimetype": "text/x-python",
   "name": "python",
   "nbconvert_exporter": "python",
   "pygments_lexer": "ipython3",
   "version": "3.8.5"
  }
 },
 "nbformat": 4,
 "nbformat_minor": 4
}
