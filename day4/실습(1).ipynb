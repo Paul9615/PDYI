{
 "cells": [
  {
   "cell_type": "markdown",
   "metadata": {},
   "source": [
    "# 셋\n",
    "중복을 허용하지 않고 원소들의 순서가 없어 인덱싱과 슬라이싱 불가"
   ]
  },
  {
   "cell_type": "code",
   "execution_count": 5,
   "metadata": {},
   "outputs": [
    {
     "data": {
      "text/plain": [
       "{'A', 'B', 'C', 'D', 'E', 'F'}"
      ]
     },
     "execution_count": 5,
     "metadata": {},
     "output_type": "execute_result"
    }
   ],
   "source": [
    "# set\n",
    "s1 = {'A','B','C','A','D','E','F','B'}\n",
    "s1 # ondexing & slicing 不"
   ]
  },
  {
   "cell_type": "code",
   "execution_count": 6,
   "metadata": {},
   "outputs": [
    {
     "name": "stdout",
     "output_type": "stream",
     "text": [
      "{'F', 'C', 'D', 'B', 'E'}\n",
      "{'C', 'D', 'B', 'E'}\n"
     ]
    }
   ],
   "source": [
    "# remove & pop\n",
    "s1.remove('A') # delete desinated element\n",
    "print(s1)\n",
    "\n",
    "s1.pop() # delete last element \n",
    "print(s1)"
   ]
  },
  {
   "cell_type": "markdown",
   "metadata": {},
   "source": [
    "# 셋의 집합 연산"
   ]
  },
  {
   "cell_type": "code",
   "execution_count": 18,
   "metadata": {},
   "outputs": [],
   "source": [
    "# calculus set\n",
    "s1 = {'A','B','C','D','E','F','B'}\n",
    "s2 = {'B','D','G','H'}"
   ]
  },
  {
   "cell_type": "code",
   "execution_count": 19,
   "metadata": {},
   "outputs": [
    {
     "name": "stdout",
     "output_type": "stream",
     "text": [
      "{'D', 'B'}\n",
      "{'D', 'B'}\n"
     ]
    }
   ],
   "source": [
    "# intersection\n",
    "# & == intersection()\n",
    "s3 = s1 & s2 \n",
    "print(s3)\n",
    "\n",
    "s4 = s1.intersection(s2)\n",
    "print(s4)"
   ]
  },
  {
   "cell_type": "code",
   "execution_count": 20,
   "metadata": {},
   "outputs": [
    {
     "name": "stdout",
     "output_type": "stream",
     "text": [
      "{'G', 'H', 'F', 'C', 'D', 'B', 'A', 'E'}\n",
      "{'G', 'H', 'F', 'C', 'D', 'B', 'A', 'E'}\n"
     ]
    }
   ],
   "source": [
    "# union\n",
    "# | == union()\n",
    "s5 = s1 | s2\n",
    "print(s5)\n",
    "\n",
    "s6 = s1.union(s5)\n",
    "print(s6)"
   ]
  },
  {
   "cell_type": "code",
   "execution_count": 21,
   "metadata": {},
   "outputs": [
    {
     "name": "stdout",
     "output_type": "stream",
     "text": [
      "{'F', 'E', 'A', 'C'}\n",
      "{'F', 'E', 'A', 'C'}\n"
     ]
    }
   ],
   "source": [
    "# difference\n",
    "# - == differnce()\n",
    "s7 = s1 - s2 \n",
    "print(s7)\n",
    "\n",
    "s8 = s1.difference(s2)\n",
    "print(s8)"
   ]
  },
  {
   "cell_type": "code",
   "execution_count": 22,
   "metadata": {},
   "outputs": [
    {
     "name": "stdout",
     "output_type": "stream",
     "text": [
      "{'G', 'H', 'F', 'C', 'A', 'E'}\n",
      "{'G', 'H', 'F', 'C', 'A', 'E'}\n"
     ]
    }
   ],
   "source": [
    "# symmetric difference\n",
    "# ^ == symmetric_difference\n",
    "s9 = s1^s2\n",
    "print(s9)\n",
    "\n",
    "s10 = s1.symmetric_difference(s2)\n",
    "print(s10)"
   ]
  },
  {
   "cell_type": "markdown",
   "metadata": {},
   "source": [
    "symmetric_difference\n",
    "> intersection을 제외한 집합"
   ]
  },
  {
   "cell_type": "markdown",
   "metadata": {},
   "source": [
    "# 딕셔너리\n",
    "key: 'value'"
   ]
  },
  {
   "cell_type": "code",
   "execution_count": 35,
   "metadata": {},
   "outputs": [
    {
     "data": {
      "text/plain": [
       "{'math': 100, 'eng': 90}"
      ]
     },
     "execution_count": 35,
     "metadata": {},
     "output_type": "execute_result"
    }
   ],
   "source": [
    "# dictionary \n",
    "M_T = {\n",
    "    'math': 100,\n",
    "    'eng': 90,\n",
    "}\n",
    "M_T"
   ]
  },
  {
   "cell_type": "code",
   "execution_count": 36,
   "metadata": {},
   "outputs": [
    {
     "name": "stdout",
     "output_type": "stream",
     "text": [
      "{'math': 100, 'eng': 95, 'kor': 85}\n"
     ]
    }
   ],
   "source": [
    "# element add, check & alter\n",
    "M_T['kor'] = 85 # add element\n",
    "\n",
    "# M_T['eng']  check element \n",
    "\n",
    "M_T['eng'] = 95 # alter element \n",
    "print(M_T)"
   ]
  },
  {
   "cell_type": "code",
   "execution_count": 37,
   "metadata": {},
   "outputs": [
    {
     "name": "stdout",
     "output_type": "stream",
     "text": [
      "['math', 'eng', 'kor']\n",
      "[100, 95, 85]\n",
      "[('math', 100), ('eng', 95), ('kor', 85)]\n"
     ]
    }
   ],
   "source": [
    "# keys, values, items function \n",
    "print(list(M_T.keys())) # check keys\n",
    "print(list(M_T.values())) # check values\n",
    "print(list(M_T.items())) # o/w"
   ]
  },
  {
   "cell_type": "code",
   "execution_count": 38,
   "metadata": {},
   "outputs": [
    {
     "name": "stdout",
     "output_type": "stream",
     "text": [
      "{'math': 100, 'kor': 85}\n"
     ]
    }
   ],
   "source": [
    "# delete element\n",
    "M_T.pop('eng')\n",
    "print(M_T)"
   ]
  }
 ],
 "metadata": {
  "kernelspec": {
   "display_name": "Python 3",
   "language": "python",
   "name": "python3"
  },
  "language_info": {
   "codemirror_mode": {
    "name": "ipython",
    "version": 3
   },
   "file_extension": ".py",
   "mimetype": "text/x-python",
   "name": "python",
   "nbconvert_exporter": "python",
   "pygments_lexer": "ipython3",
   "version": "3.8.5"
  }
 },
 "nbformat": 4,
 "nbformat_minor": 4
}
