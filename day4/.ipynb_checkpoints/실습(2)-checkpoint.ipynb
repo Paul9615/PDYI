{
 "cells": [
  {
   "cell_type": "markdown",
   "metadata": {},
   "source": [
    "# 비교 연산자와 논리 연산자 "
   ]
  },
  {
   "cell_type": "code",
   "execution_count": 4,
   "metadata": {},
   "outputs": [
    {
     "name": "stdout",
     "output_type": "stream",
     "text": [
      " x==y False\n",
      " x<y False\n",
      " x!=y True\n",
      " x>=y True\n",
      " x>y True\n",
      " x<=y False\n",
      "\n"
     ]
    }
   ],
   "source": [
    "# comparison\n",
    "x = 10 ; y = 5 \n",
    "print(' x==y {0}\\n x<y {1}\\n x!=y {2}\\n x>=y {3}\\n x>y {4}\\n x<=y {5}\\n'.format(x==y, x<y, x!=y, x>=y, x>y,x<=y)) "
   ]
  },
  {
   "cell_type": "code",
   "execution_count": 5,
   "metadata": {},
   "outputs": [
    {
     "name": "stdout",
     "output_type": "stream",
     "text": [
      " x and y False\n",
      " x or y True\n",
      " not x False\n"
     ]
    }
   ],
   "source": [
    "# logical\n",
    "x = True ; y =False\n",
    "print(' x and y {0}\\n x or y {1}\\n not x {2}'.format(x and y, x or y, not x))"
   ]
  },
  {
   "cell_type": "markdown",
   "metadata": {},
   "source": [
    "# 조건문"
   ]
  },
  {
   "cell_type": "code",
   "execution_count": 12,
   "metadata": {},
   "outputs": [
    {
     "name": "stdout",
     "output_type": "stream",
     "text": [
      "x>y\n",
      "x<y\n",
      "x==y\n",
      "내년에 봐요^^\n"
     ]
    }
   ],
   "source": [
    "# conditional \n",
    "x,y = 10,5\n",
    "\n",
    "if x>y:\n",
    "    print('x>y')\n",
    "    \n",
    "x,y = 5,10\n",
    "if x>y:\n",
    "    print('x>y')\n",
    "else: \n",
    "    print('x<y')\n",
    "    \n",
    "x,y = 10,10\n",
    "if x>y:\n",
    "    print('x>y')\n",
    "elif x<y: \n",
    "    print('x<y')\n",
    "else:\n",
    "    print('x==y')\n",
    "\n",
    "sc = 10 \n",
    "if sc >= 90:\n",
    "    print('A')\n",
    "elif sc >=80: \n",
    "    print('B')\n",
    "elif sc >=70: \n",
    "    print('C')\n",
    "elif sc >=60: \n",
    "    print('D')\n",
    "else:  \n",
    "    print('내년에 봐요^^') # 들여쓰기 & else 주의"
   ]
  },
  {
   "cell_type": "markdown",
   "metadata": {},
   "source": [
    "# 중첩/복합 조건문"
   ]
  },
  {
   "cell_type": "code",
   "execution_count": 13,
   "metadata": {},
   "outputs": [
    {
     "name": "stdout",
     "output_type": "stream",
     "text": [
      "a is True\n",
      "x<y\n"
     ]
    }
   ],
   "source": [
    "# 중첩: 조건문 안에 다른 조건문(내 안에 너 있다)\n",
    "a = True\n",
    "x,y=5,10\n",
    "if a == True:\n",
    "    print('a is True')\n",
    "    if x>y:\n",
    "        print('x>y')\n",
    "    else:\n",
    "        print('x<y')\n",
    "else:\n",
    "    print('a is false')"
   ]
  },
  {
   "cell_type": "code",
   "execution_count": 16,
   "metadata": {},
   "outputs": [
    {
     "name": "stdout",
     "output_type": "stream",
     "text": [
      "mem\n",
      "9\n",
      "fee 2,500won\n"
     ]
    }
   ],
   "source": [
    "mem = input()\n",
    "age = int(input())\n",
    "fee = 0\n",
    "if mem:\n",
    "    if age > 6 and age <= 13:\n",
    "        fee = 2500\n",
    "    elif age > 14 and age <= 59:\n",
    "        fee = 5000\n",
    "else:\n",
    "    if age > 6 and age<=13:\n",
    "        fee = 5000\n",
    "    elif age > 14 and age <= 59:\n",
    "        fee = 10000\n",
    "        \n",
    "print(f'fee {fee:,}won')"
   ]
  },
  {
   "cell_type": "code",
   "execution_count": 17,
   "metadata": {},
   "outputs": [
    {
     "name": "stdout",
     "output_type": "stream",
     "text": [
      "9\n",
      "fee 2,500won\n"
     ]
    }
   ],
   "source": [
    "mem = mem\n",
    "age = int(input())\n",
    "fee = 0\n",
    "if age <= 6 and age >= 60:\n",
    "        fee = 0\n",
    "elif age > 6 and age <= 13:\n",
    "        fee = 5000\n",
    "elif age > 14 and age <= 59:\n",
    "        fee = 10000\n",
    "if mem:\n",
    "    fee = int(fee*0.5)\n",
    "\n",
    "print(f'fee {fee:,}won')"
   ]
  }
 ],
 "metadata": {
  "kernelspec": {
   "display_name": "Python 3",
   "language": "python",
   "name": "python3"
  },
  "language_info": {
   "codemirror_mode": {
    "name": "ipython",
    "version": 3
   },
   "file_extension": ".py",
   "mimetype": "text/x-python",
   "name": "python",
   "nbconvert_exporter": "python",
   "pygments_lexer": "ipython3",
   "version": "3.8.5"
  }
 },
 "nbformat": 4,
 "nbformat_minor": 4
}
