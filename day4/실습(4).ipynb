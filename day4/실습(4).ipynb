{
 "cells": [
  {
   "cell_type": "markdown",
   "metadata": {},
   "source": [
    "# 함수"
   ]
  },
  {
   "cell_type": "code",
   "execution_count": 2,
   "metadata": {},
   "outputs": [
    {
     "name": "stdout",
     "output_type": "stream",
     "text": [
      "add\n"
     ]
    }
   ],
   "source": [
    "# function\n",
    "def add_1():\n",
    "    print('add')\n",
    "    \n",
    "add_1()"
   ]
  },
  {
   "cell_type": "code",
   "execution_count": 12,
   "metadata": {},
   "outputs": [
    {
     "name": "stdout",
     "output_type": "stream",
     "text": [
      "4\n",
      "None\n",
      "5\n",
      "4\n",
      "16\n",
      "25\n"
     ]
    }
   ],
   "source": [
    "# user defined function\n",
    "def add_2(x,y):\n",
    "    print(x+y)\n",
    "\n",
    "print(add_2(1,3))\n",
    "\n",
    "def add_3():\n",
    "    x,y=2,3\n",
    "    return x+y\n",
    "\n",
    "print(add_3())\n",
    "\n",
    "def add_4(x,y):\n",
    "    return x+y\n",
    "\n",
    "print(add_4(1,3))\n",
    "\n",
    "# multi-return \n",
    "def sq(x,y):\n",
    "    x = x**2\n",
    "    y = y**2\n",
    "    return x,y \n",
    "a,b = sq(4,5)\n",
    "print(a)\n",
    "print(b)"
   ]
  },
  {
   "cell_type": "markdown",
   "metadata": {},
   "source": [
    "# 매개변수"
   ]
  },
  {
   "cell_type": "code",
   "execution_count": 16,
   "metadata": {},
   "outputs": [
    {
     "name": "stdout",
     "output_type": "stream",
     "text": [
      "(4, 9)\n",
      "(9, 36)\n",
      "(64, 16)\n"
     ]
    }
   ],
   "source": [
    "# parameter\n",
    "# desinated element \n",
    "def sq_2(x=2,y=3): \n",
    "    x = x**2\n",
    "    y = y**2 \n",
    "    return x,y\n",
    "\n",
    "print(sq_2())\n",
    "print(sq_2(3,6))\n",
    "print(sq_2(y=4,x=8))"
   ]
  },
  {
   "cell_type": "markdown",
   "metadata": {},
   "source": [
    "## 가변 매개변수\n",
    "변수 앞에 *를 붙여서 매개변수 정의\\\n",
    "일반 매개변수 할당 후 나머지 인자는 튜플로 할당"
   ]
  },
  {
   "cell_type": "code",
   "execution_count": 20,
   "metadata": {},
   "outputs": [
    {
     "name": "stdout",
     "output_type": "stream",
     "text": [
      "(1, ())\n",
      "(1, (2,))\n",
      "(1, (2, 3))\n"
     ]
    }
   ],
   "source": [
    "# argument\n",
    "def arg_1(x,*y):\n",
    "    return x, y\n",
    "\n",
    "print(arg_1(1))\n",
    "print(arg_1(1,2))\n",
    "print(arg_1(1,2,3))"
   ]
  }
 ],
 "metadata": {
  "kernelspec": {
   "display_name": "Python 3",
   "language": "python",
   "name": "python3"
  },
  "language_info": {
   "codemirror_mode": {
    "name": "ipython",
    "version": 3
   },
   "file_extension": ".py",
   "mimetype": "text/x-python",
   "name": "python",
   "nbconvert_exporter": "python",
   "pygments_lexer": "ipython3",
   "version": "3.8.5"
  }
 },
 "nbformat": 4,
 "nbformat_minor": 4
}
