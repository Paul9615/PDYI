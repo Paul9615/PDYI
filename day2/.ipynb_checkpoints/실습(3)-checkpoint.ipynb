{
 "cells": [
  {
   "cell_type": "markdown",
   "metadata": {},
   "source": [
    "# 문자열"
   ]
  },
  {
   "cell_type": "code",
   "execution_count": 1,
   "metadata": {},
   "outputs": [
    {
     "name": "stdout",
     "output_type": "stream",
     "text": [
      "파이썬\n"
     ]
    }
   ],
   "source": [
    "p = '파이썬'\n",
    "print(p)"
   ]
  },
  {
   "cell_type": "code",
   "execution_count": 3,
   "metadata": {},
   "outputs": [
    {
     "name": "stdout",
     "output_type": "stream",
     "text": [
      "\n",
      "또 물보라를 일으켜\n",
      "따 따 따따 따따라 따따따\n",
      "\n"
     ]
    }
   ],
   "source": [
    "c = '''\n",
    "또 물보라를 일으켜\n",
    "따 따 따따 따따라 따따따\n",
    "'''\n",
    "print(c)"
   ]
  },
  {
   "cell_type": "code",
   "execution_count": 5,
   "metadata": {},
   "outputs": [
    {
     "data": {
      "text/plain": [
       "'파이썬3'"
      ]
     },
     "execution_count": 5,
     "metadata": {},
     "output_type": "execute_result"
    }
   ],
   "source": [
    "# 문자열 연산 \n",
    "d = p + str(3) # 문자열은 문자열끼리 형변환하여 연산 수행\n",
    "d"
   ]
  },
  {
   "cell_type": "code",
   "execution_count": 6,
   "metadata": {},
   "outputs": [
    {
     "data": {
      "text/plain": [
       "'&&&&&&&&&&'"
      ]
     },
     "execution_count": 6,
     "metadata": {},
     "output_type": "execute_result"
    }
   ],
   "source": [
    "e = '&' * 10 # 문자열 복사\n",
    "e "
   ]
  },
  {
   "cell_type": "code",
   "execution_count": 14,
   "metadata": {},
   "outputs": [
    {
     "name": "stdout",
     "output_type": "stream",
     "text": [
      "h[0]: 아\n",
      "h[1]:  \n",
      "h[-1]: 어\n",
      "h[:7]: 아 졸업하기 \n",
      "h[7:]: 싫어\n",
      "h[::2]: 아졸하 어\n",
      "h[::-1]: 어싫 기하업졸 아\n"
     ]
    }
   ],
   "source": [
    "# 인덱스\n",
    "h = '아 졸업하기 싫어'\n",
    "print('h[0]: {}'.format(h[0]))\n",
    "print('h[1]: {}'.format(h[1]))\n",
    "print('h[-1]: {}'.format(h[-1]))\n",
    "print('h[:7]: {}'.format(h[:7]))\n",
    "print('h[7:]: {}'.format(h[7:]))\n",
    "print('h[::2]: {}'.format(h[::2])) # 처음부터 2칸씩 건너뛰어 출력\n",
    "print('h[::-1]: {}'.format(h[::-1])) # 역정렬"
   ]
  },
  {
   "cell_type": "markdown",
   "metadata": {},
   "source": [
    "# 문자열 함수"
   ]
  },
  {
   "cell_type": "code",
   "execution_count": 15,
   "metadata": {},
   "outputs": [
    {
     "data": {
      "text/plain": [
       "9"
      ]
     },
     "execution_count": 15,
     "metadata": {},
     "output_type": "execute_result"
    }
   ],
   "source": [
    "# 문자열, element의 길이를 전달\n",
    "len('졸업이야? 내가?')"
   ]
  },
  {
   "cell_type": "code",
   "execution_count": 16,
   "metadata": {},
   "outputs": [
    {
     "data": {
      "text/plain": [
       "'졸-업-이-야-?- -내-가-?'"
      ]
     },
     "execution_count": 16,
     "metadata": {},
     "output_type": "execute_result"
    }
   ],
   "source": [
    "# 문자열 조합\n",
    "'-'.join('졸업이야? 내가?')"
   ]
  },
  {
   "cell_type": "code",
   "execution_count": 17,
   "metadata": {},
   "outputs": [
    {
     "data": {
      "text/plain": [
       "['졸', '업', '이', '야', '?', ' ', '내', '가', '?']"
      ]
     },
     "execution_count": 17,
     "metadata": {},
     "output_type": "execute_result"
    }
   ],
   "source": [
    "# 기준 분리\n",
    "'졸-업-이-야-?- -내-가-?'.split('-') # parameter가 없으면 공백을 기준으로 분리"
   ]
  },
  {
   "cell_type": "code",
   "execution_count": 18,
   "metadata": {},
   "outputs": [
    {
     "data": {
      "text/plain": [
       "'응애 나 애기 백수'"
      ]
     },
     "execution_count": 18,
     "metadata": {},
     "output_type": "execute_result"
    }
   ],
   "source": [
    "# 특수한 문자 제거\n",
    "txt = '\\t 응애 나 애기 백수 \\t'\n",
    "txt.strip()"
   ]
  },
  {
   "cell_type": "code",
   "execution_count": 19,
   "metadata": {},
   "outputs": [
    {
     "data": {
      "text/plain": [
       "'2021+07+05'"
      ]
     },
     "execution_count": 19,
     "metadata": {},
     "output_type": "execute_result"
    }
   ],
   "source": [
    "# 문자 교체 \n",
    "dt = '2021/07/05'\n",
    "dt.replace('/','+')"
   ]
  },
  {
   "cell_type": "code",
   "execution_count": 20,
   "metadata": {},
   "outputs": [
    {
     "data": {
      "text/plain": [
       "True"
      ]
     },
     "execution_count": 20,
     "metadata": {},
     "output_type": "execute_result"
    }
   ],
   "source": [
    "# 시작점 또는 끝점 맞는지 판별\n",
    "'hello Hello'.startswith('hello')\n",
    "# 끝은 endswith"
   ]
  },
  {
   "cell_type": "code",
   "execution_count": 21,
   "metadata": {},
   "outputs": [
    {
     "data": {
      "text/plain": [
       "2"
      ]
     },
     "execution_count": 21,
     "metadata": {},
     "output_type": "execute_result"
    }
   ],
   "source": [
    "# 문자 count\n",
    "txt.count('애')"
   ]
  },
  {
   "cell_type": "code",
   "execution_count": 23,
   "metadata": {},
   "outputs": [
    {
     "data": {
      "text/plain": [
       "10"
      ]
     },
     "execution_count": 23,
     "metadata": {},
     "output_type": "execute_result"
    }
   ],
   "source": [
    "# 인덱스 값 반환\n",
    "txt.index('백')"
   ]
  },
  {
   "cell_type": "code",
   "execution_count": 35,
   "metadata": {},
   "outputs": [
    {
     "name": "stdout",
     "output_type": "stream",
     "text": [
      "7\n",
      "3\n"
     ]
    }
   ],
   "source": [
    "print(txt.index('애',4)) # 찾는 시작점만 지정\n",
    "print(txt.index('애',1,4)) # 시작점과 종료점 지정"
   ]
  },
  {
   "cell_type": "code",
   "execution_count": 27,
   "metadata": {},
   "outputs": [
    {
     "data": {
      "text/plain": [
       "5"
      ]
     },
     "execution_count": 27,
     "metadata": {},
     "output_type": "execute_result"
    }
   ],
   "source": [
    "'''\n",
    "비슷한거, 찾는 문자가 없는 경우 -1 출력, \n",
    "index는 valueerror, 변수는 문자열만 사용 가능\n",
    "리스트, 튜플, 딕셔너리 자료형은 사용할 수 없음(attribute error)\n",
    "\n",
    "'''\n",
    "txt.find('나')"
   ]
  },
  {
   "cell_type": "code",
   "execution_count": 29,
   "metadata": {},
   "outputs": [
    {
     "data": {
      "text/plain": [
       "'Qwe'"
      ]
     },
     "execution_count": 29,
     "metadata": {},
     "output_type": "execute_result"
    }
   ],
   "source": [
    "# 첫글자 대문자 \n",
    "'qwe'.capitalize()"
   ]
  },
  {
   "cell_type": "code",
   "execution_count": 30,
   "metadata": {},
   "outputs": [
    {
     "data": {
      "text/plain": [
       "'qwe'"
      ]
     },
     "execution_count": 30,
     "metadata": {},
     "output_type": "execute_result"
    }
   ],
   "source": [
    "# 전부 소문자 \n",
    "'Qwe'.lower()"
   ]
  },
  {
   "cell_type": "code",
   "execution_count": 31,
   "metadata": {},
   "outputs": [
    {
     "data": {
      "text/plain": [
       "'QWE'"
      ]
     },
     "execution_count": 31,
     "metadata": {},
     "output_type": "execute_result"
    }
   ],
   "source": [
    "# 전부 대문자\n",
    "'qwe'.upper()"
   ]
  },
  {
   "cell_type": "code",
   "execution_count": 33,
   "metadata": {},
   "outputs": [
    {
     "data": {
      "text/plain": [
       "True"
      ]
     },
     "execution_count": 33,
     "metadata": {},
     "output_type": "execute_result"
    }
   ],
   "source": [
    "# 유무 파악 \n",
    "'qwe' in 'qwerty' # 없으면 false 반환, 분기문에서 유용함"
   ]
  },
  {
   "cell_type": "markdown",
   "metadata": {},
   "source": [
    "# 문자열 포맷팅"
   ]
  },
  {
   "cell_type": "code",
   "execution_count": 39,
   "metadata": {},
   "outputs": [
    {
     "data": {
      "text/plain": [
       "'my name is 구경민 26 old, my student number is 15'"
      ]
     },
     "execution_count": 39,
     "metadata": {},
     "output_type": "execute_result"
    }
   ],
   "source": [
    "name, age, number = '구경민', '26','15'\n",
    "intro = 'my name is {0} {1} old, my student number is {2}'.format(name, age, number)\n",
    "intro"
   ]
  },
  {
   "cell_type": "code",
   "execution_count": 41,
   "metadata": {},
   "outputs": [
    {
     "data": {
      "text/plain": [
       "'my name is 구경민 26 old, my student number is 15'"
      ]
     },
     "execution_count": 41,
     "metadata": {},
     "output_type": "execute_result"
    }
   ],
   "source": [
    "# 다른 방법\n",
    "introd = f'my name is {name} {age} old, my student number is {number}'\n",
    "introd"
   ]
  },
  {
   "cell_type": "code",
   "execution_count": 42,
   "metadata": {},
   "outputs": [
    {
     "name": "stdout",
     "output_type": "stream",
     "text": [
      "제뉴어뤼는 01월\n",
      "디셈버는 12월\n"
     ]
    }
   ],
   "source": [
    "# 숫자 포맷팅\n",
    "일월, 십이월 = 1, 12 \n",
    "print('제뉴어뤼는 {:02d}월'.format(일월)) \n",
    "'''\n",
    "두자리로 채우는데 자릿수가 부족하면 0으로, \n",
    "d 는 정수\n",
    "'''\n",
    "\n",
    "print('디셈버는 {:02d}월'.format(십이월))"
   ]
  },
  {
   "cell_type": "code",
   "execution_count": 53,
   "metadata": {},
   "outputs": [
    {
     "data": {
      "text/plain": [
       "'100,000,000'"
      ]
     },
     "execution_count": 53,
     "metadata": {},
     "output_type": "execute_result"
    }
   ],
   "source": [
    "# 금액표시 예제 \n",
    "num = 100000000\n",
    "price = \"{:,}\"\n",
    "price.format(num)"
   ]
  },
  {
   "cell_type": "code",
   "execution_count": 57,
   "metadata": {},
   "outputs": [
    {
     "data": {
      "text/plain": [
       "'4, 4.000000, 4.0, 4.12, 25.00%'"
      ]
     },
     "execution_count": 57,
     "metadata": {},
     "output_type": "execute_result"
    }
   ],
   "source": [
    "'{}, {:f}, {:.1f}, {:.2f}, {:.2%}'.format(4, 4, 4, 4.12345, 1/4) \n",
    "'''\n",
    "\n",
    "# 공백, \n",
    "실수형, \n",
    "소숫점 첫째자리까지 실수형, \n",
    "소숫점 둘째자리까지 실수형\n",
    "소숫점 둘째자리까지 퍼센트로 변환\n",
    "'''"
   ]
  }
 ],
 "metadata": {
  "kernelspec": {
   "display_name": "Python 3",
   "language": "python",
   "name": "python3"
  },
  "language_info": {
   "codemirror_mode": {
    "name": "ipython",
    "version": 3
   },
   "file_extension": ".py",
   "mimetype": "text/x-python",
   "name": "python",
   "nbconvert_exporter": "python",
   "pygments_lexer": "ipython3",
   "version": "3.8.5"
  }
 },
 "nbformat": 4,
 "nbformat_minor": 4
}
